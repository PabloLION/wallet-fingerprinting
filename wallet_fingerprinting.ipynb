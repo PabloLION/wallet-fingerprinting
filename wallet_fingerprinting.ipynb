{
 "cells": [
  {
   "cell_type": "code",
   "execution_count": null,
   "id": "bed72895-df70-4471-943a-44e9ad1dbc0b",
   "metadata": {},
   "outputs": [],
   "source": [
    "from wallet_fingerprinting import *"
   ]
  },
  {
   "cell_type": "code",
   "execution_count": null,
   "id": "34321f09-946e-4ed2-8563-33d6afd30341",
   "metadata": {},
   "outputs": [],
   "source": [
    "# test\n",
    "print(decoderawtransaction(getrawtransaction(getrawmempool()[0])))"
   ]
  },
  {
   "cell_type": "code",
   "execution_count": null,
   "id": "ff047cb0-3824-4c0c-bb99-164466bc5dda",
   "metadata": {},
   "outputs": [],
   "source": []
  }
 ],
 "metadata": {
  "kernelspec": {
   "display_name": "Python 3 (ipykernel)",
   "language": "python",
   "name": "python3"
  },
  "language_info": {
   "codemirror_mode": {
    "name": "ipython",
    "version": 3
   },
   "file_extension": ".py",
   "mimetype": "text/x-python",
   "name": "python",
   "nbconvert_exporter": "python",
   "pygments_lexer": "ipython3",
   "version": "3.10.6"
  }
 },
 "nbformat": 4,
 "nbformat_minor": 5
}
