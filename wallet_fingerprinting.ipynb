{
 "cells": [
  {
   "cell_type": "code",
   "execution_count": null,
   "id": "34321f09-946e-4ed2-8563-33d6afd30341",
   "metadata": {},
   "outputs": [],
   "source": [
    "import fingerprinting"
   ]
  },
  {
   "cell_type": "code",
   "execution_count": null,
   "id": "9e2f85c8-3835-4e16-916c-c4fc462024a8",
   "metadata": {},
   "outputs": [],
   "source": [
    "fingerprinting.analyze_block(num_of_txs)"
   ]
  },
  {
   "cell_type": "code",
   "execution_count": null,
   "id": "c3ff1059-9e15-468a-80d5-34a365c6c55b",
   "metadata": {},
   "outputs": [],
   "source": []
  },
  {
   "cell_type": "code",
   "execution_count": null,
   "id": "e44e5f03-2194-4fad-81ae-c90c286277aa",
   "metadata": {},
   "outputs": [],
   "source": []
  }
 ],
 "metadata": {
  "kernelspec": {
   "display_name": "Python 3 (ipykernel)",
   "language": "python",
   "name": "python3"
  },
  "language_info": {
   "codemirror_mode": {
    "name": "ipython",
    "version": 3
   },
   "file_extension": ".py",
   "mimetype": "text/x-python",
   "name": "python",
   "nbconvert_exporter": "python",
   "pygments_lexer": "ipython3",
   "version": "3.10.12"
  }
 },
 "nbformat": 4,
 "nbformat_minor": 5
}
